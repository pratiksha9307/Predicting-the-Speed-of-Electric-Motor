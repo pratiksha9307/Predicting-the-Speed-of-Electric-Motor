{
 "cells": [
  {
   "cell_type": "code",
   "execution_count": null,
   "id": "13b24961",
   "metadata": {},
   "outputs": [],
   "source": [
    "import pandas as pd\n",
    "import numpy as np\n",
    "import seaborn as sns\n",
    "import matplotlib.pyplot as plt\n",
    "import warnings\n",
    "warnings.filterwarnings('ignore')"
   ]
  },
  {
   "cell_type": "markdown",
   "id": "1c530bbe",
   "metadata": {},
   "source": [
    "# Importing Data"
   ]
  },
  {
   "cell_type": "code",
   "execution_count": null,
   "id": "238efbbc",
   "metadata": {
    "scrolled": true
   },
   "outputs": [],
   "source": [
    "df = pd.read_csv(\"C:\\\\Users\\\\pratiksha\\\\Documents\\\\Excelar\\\\Project 189\\\\temperature_data.csv\")\n",
    "df"
   ]
  },
  {
   "cell_type": "markdown",
   "id": "c2e818da",
   "metadata": {},
   "source": [
    "# Data Preprocessing"
   ]
  },
  {
   "cell_type": "code",
   "execution_count": null,
   "id": "d33d4afa",
   "metadata": {},
   "outputs": [],
   "source": [
    "df.columns"
   ]
  },
  {
   "cell_type": "code",
   "execution_count": null,
   "id": "71e48a62",
   "metadata": {},
   "outputs": [],
   "source": [
    "#By observing the data column 'profile_id' was not playing the major role se gonna remove it...\n",
    "df.drop(df.columns[[12]], axis = 1, inplace = True)\n",
    "df"
   ]
  },
  {
   "cell_type": "markdown",
   "id": "ef881421",
   "metadata": {},
   "source": [
    "# Basic Infromation about the data -EDA(Exploratory Data Analysis)"
   ]
  },
  {
   "cell_type": "code",
   "execution_count": null,
   "id": "1fc1720a",
   "metadata": {},
   "outputs": [],
   "source": [
    "df.info()"
   ]
  },
  {
   "cell_type": "code",
   "execution_count": null,
   "id": "0eb3abd2",
   "metadata": {},
   "outputs": [],
   "source": [
    "df.describe()"
   ]
  },
  {
   "cell_type": "code",
   "execution_count": null,
   "id": "68c7bd07",
   "metadata": {},
   "outputs": [],
   "source": [
    "df.shape"
   ]
  },
  {
   "cell_type": "code",
   "execution_count": null,
   "id": "6c79b3be",
   "metadata": {},
   "outputs": [],
   "source": [
    "df.count()"
   ]
  },
  {
   "cell_type": "code",
   "execution_count": null,
   "id": "6e43824f",
   "metadata": {},
   "outputs": [],
   "source": [
    "#checking the null values \n",
    "df.isnull().sum()\n",
    "\n",
    "#So there are no nyll values in the data"
   ]
  },
  {
   "cell_type": "code",
   "execution_count": null,
   "id": "55b43ec2",
   "metadata": {},
   "outputs": [],
   "source": [
    "df.mean()"
   ]
  },
  {
   "cell_type": "code",
   "execution_count": null,
   "id": "c8d57ebf",
   "metadata": {},
   "outputs": [],
   "source": [
    "df.median()"
   ]
  },
  {
   "cell_type": "code",
   "execution_count": null,
   "id": "02fa87a7",
   "metadata": {},
   "outputs": [],
   "source": [
    "df.mode()"
   ]
  },
  {
   "cell_type": "code",
   "execution_count": null,
   "id": "84e88d9f",
   "metadata": {},
   "outputs": [],
   "source": [
    "#checking the correlation respect to the data\n",
    "df.corr()"
   ]
  },
  {
   "cell_type": "code",
   "execution_count": null,
   "id": "21094f5b",
   "metadata": {},
   "outputs": [],
   "source": [
    "corr_matrix = df.corr()"
   ]
  },
  {
   "cell_type": "code",
   "execution_count": null,
   "id": "540b0055",
   "metadata": {},
   "outputs": [],
   "source": [
    "#checking the unique values in data\n",
    "df['motor_speed'].unique()"
   ]
  },
  {
   "cell_type": "code",
   "execution_count": null,
   "id": "c421176b",
   "metadata": {},
   "outputs": [],
   "source": [
    "df['pm'].unique()"
   ]
  },
  {
   "cell_type": "code",
   "execution_count": null,
   "id": "b32bc062",
   "metadata": {},
   "outputs": [],
   "source": [
    "df['i_d'].unique()"
   ]
  },
  {
   "cell_type": "code",
   "execution_count": null,
   "id": "9e910dfc",
   "metadata": {},
   "outputs": [],
   "source": [
    "df['i_q'].unique()"
   ]
  },
  {
   "cell_type": "code",
   "execution_count": null,
   "id": "38a710fa",
   "metadata": {},
   "outputs": [],
   "source": [
    "#Hence there are unique values in data which are presented over here...."
   ]
  },
  {
   "cell_type": "markdown",
   "id": "7c9590e5",
   "metadata": {},
   "source": [
    "# Data Visualization:"
   ]
  },
  {
   "cell_type": "code",
   "execution_count": null,
   "id": "6de98d68",
   "metadata": {},
   "outputs": [],
   "source": [
    "#Boxplot of the overall data\n",
    "boxplot=df.boxplot(figsize=(16,10))"
   ]
  },
  {
   "cell_type": "code",
   "execution_count": null,
   "id": "7b7446cc",
   "metadata": {},
   "outputs": [],
   "source": [
    "#plotting_the_boxplot\n",
    "plt.figure(figsize=(16,12))\n",
    "for i in range (len(df.columns)):\n",
    "    plt.subplot(3,4, i+1)\n",
    "    sns.boxplot(df[df.columns[i]])\n",
    "plt.show()"
   ]
  },
  {
   "cell_type": "code",
   "execution_count": null,
   "id": "2de37738",
   "metadata": {},
   "outputs": [],
   "source": [
    "#As we observe there are outliers in the data like columns 'ambient,u_d,i_q,torque,pm' .So we're removing it..\n",
    "#AMBIENT\n",
    "q1=df.ambient.quantile(0.25)\n",
    "q3=df.ambient.quantile(0.75)\n",
    "iqr=q3-q1\n",
    "iqr"
   ]
  },
  {
   "cell_type": "code",
   "execution_count": null,
   "id": "a68b4e7d",
   "metadata": {},
   "outputs": [],
   "source": [
    "ub=q3+1.5*iqr\n",
    "ub"
   ]
  },
  {
   "cell_type": "code",
   "execution_count": null,
   "id": "ea5f7927",
   "metadata": {},
   "outputs": [],
   "source": [
    "lb=q1-1.5*iqr\n",
    "lb"
   ]
  },
  {
   "cell_type": "code",
   "execution_count": null,
   "id": "ae1653b5",
   "metadata": {},
   "outputs": [],
   "source": [
    "#visualizing_the_outliers\n",
    "sns.boxplot(df['ambient'])\n",
    "plt.show()"
   ]
  },
  {
   "cell_type": "code",
   "execution_count": null,
   "id": "8dc0becf",
   "metadata": {},
   "outputs": [],
   "source": [
    "df.loc[df['ambient']>=2.6,'ambient']=2.6\n",
    "df.loc[df['ambient']<=-2.5,'ambient']=-2.5"
   ]
  },
  {
   "cell_type": "code",
   "execution_count": null,
   "id": "676eb0c1",
   "metadata": {},
   "outputs": [],
   "source": [
    "# Importing necessary libraries\n",
    "import seaborn as sns\n",
    "import matplotlib.pyplot as plt\n",
    "\n",
    "# Removing outliers using boxplot\n",
    "sns.boxplot(df['ambient'])\n",
    "plt.show()  # Displaying the plot\n",
    "\n"
   ]
  },
  {
   "cell_type": "code",
   "execution_count": null,
   "id": "48a303ae",
   "metadata": {},
   "outputs": [],
   "source": [
    "#torque\n",
    "q1=df.torque.quantile(0.25)\n",
    "q3=df.torque.quantile(0.75)\n",
    "iqr=q3-q1\n",
    "iqr"
   ]
  },
  {
   "cell_type": "code",
   "execution_count": null,
   "id": "eddf4dcd",
   "metadata": {},
   "outputs": [],
   "source": [
    "ub=q3+1.5*iqr\n",
    "ub"
   ]
  },
  {
   "cell_type": "code",
   "execution_count": null,
   "id": "4b86f2f0",
   "metadata": {},
   "outputs": [],
   "source": [
    "lb=q1-1.5*iqr\n",
    "lb"
   ]
  },
  {
   "cell_type": "code",
   "execution_count": null,
   "id": "a094a721",
   "metadata": {},
   "outputs": [],
   "source": [
    "sns.boxplot(df['torque'])\n",
    "plt.show()"
   ]
  },
  {
   "cell_type": "code",
   "execution_count": null,
   "id": "5196e67a",
   "metadata": {},
   "outputs": [],
   "source": [
    "df.loc[df['torque']>=1.7,'torque']=1.7\n",
    "df.loc[df['torque']<=-1.4,'torque']=-1.4"
   ]
  },
  {
   "cell_type": "code",
   "execution_count": null,
   "id": "b77b73c3",
   "metadata": {},
   "outputs": [],
   "source": [
    "sns.boxplot(df['torque'])\n",
    "plt.show()"
   ]
  },
  {
   "cell_type": "code",
   "execution_count": null,
   "id": "8a902dfc",
   "metadata": {},
   "outputs": [],
   "source": [
    "#i_q\n",
    "q1=df.i_q.quantile(0.25)\n",
    "q3=df.i_q.quantile(0.75)\n",
    "iqr=q3-q1\n",
    "iqr"
   ]
  },
  {
   "cell_type": "code",
   "execution_count": null,
   "id": "3870f764",
   "metadata": {},
   "outputs": [],
   "source": [
    "ub=q3+1.5*iqr\n",
    "ub"
   ]
  },
  {
   "cell_type": "code",
   "execution_count": null,
   "id": "22fcada6",
   "metadata": {},
   "outputs": [],
   "source": [
    "lb=q1-1.5*iqr\n",
    "lb"
   ]
  },
  {
   "cell_type": "code",
   "execution_count": null,
   "id": "96af71bd",
   "metadata": {},
   "outputs": [],
   "source": [
    "sns.boxplot(df['i_q'])\n",
    "plt.show()"
   ]
  },
  {
   "cell_type": "code",
   "execution_count": null,
   "id": "380ef2aa",
   "metadata": {},
   "outputs": [],
   "source": [
    "df.loc[df['i_q']>=1.6,'i_q']=1.6\n",
    "df.loc[df['i_q']<=-1.3,'i_q']=-1.3"
   ]
  },
  {
   "cell_type": "code",
   "execution_count": null,
   "id": "fed2e14a",
   "metadata": {},
   "outputs": [],
   "source": [
    "sns.boxplot(df['i_q'])\n",
    "plt.show()"
   ]
  },
  {
   "cell_type": "code",
   "execution_count": null,
   "id": "4bfec79e",
   "metadata": {},
   "outputs": [],
   "source": [
    "#pm\n",
    "q1=df.pm.quantile(0.25)\n",
    "q3=df.pm.quantile(0.75)\n",
    "iqr=q3-q1\n",
    "iqr"
   ]
  },
  {
   "cell_type": "code",
   "execution_count": null,
   "id": "b92238c4",
   "metadata": {},
   "outputs": [],
   "source": [
    "ub=q3+1.5*iqr\n",
    "ub"
   ]
  },
  {
   "cell_type": "code",
   "execution_count": null,
   "id": "5c3a31a7",
   "metadata": {},
   "outputs": [],
   "source": [
    "lb=q1-1.5*iqr\n",
    "lb"
   ]
  },
  {
   "cell_type": "code",
   "execution_count": null,
   "id": "02350cee",
   "metadata": {},
   "outputs": [],
   "source": [
    "sns.boxplot(df['pm'])\n",
    "plt.show()"
   ]
  },
  {
   "cell_type": "code",
   "execution_count": null,
   "id": "f1b3a07e",
   "metadata": {},
   "outputs": [],
   "source": [
    "df.loc[df['pm']>=2.7,'pm']=2.7\n",
    "df.loc[df['pm']<=-2.7,'pm']=-2.7"
   ]
  },
  {
   "cell_type": "code",
   "execution_count": null,
   "id": "eed5cb6e",
   "metadata": {},
   "outputs": [],
   "source": [
    "sns.boxplot(df['pm'])\n",
    "plt.show()"
   ]
  },
  {
   "cell_type": "code",
   "execution_count": null,
   "id": "32ce5db6",
   "metadata": {},
   "outputs": [],
   "source": [
    "#u_d\n",
    "q1=df.u_d.quantile(0.25)\n",
    "q3=df.u_d.quantile(0.75)\n",
    "iqr=q3-q1\n",
    "iqr"
   ]
  },
  {
   "cell_type": "code",
   "execution_count": null,
   "id": "c926ff3e",
   "metadata": {},
   "outputs": [],
   "source": [
    "ub=q3+1.5*iqr\n",
    "ub"
   ]
  },
  {
   "cell_type": "code",
   "execution_count": null,
   "id": "161cc6e1",
   "metadata": {},
   "outputs": [],
   "source": [
    "lb=q1-1.5*iqr\n",
    "lb"
   ]
  },
  {
   "cell_type": "code",
   "execution_count": null,
   "id": "d39d5d5c",
   "metadata": {},
   "outputs": [],
   "source": [
    "sns.boxplot(df['u_d'])\n",
    "plt.show()"
   ]
  },
  {
   "cell_type": "code",
   "execution_count": null,
   "id": "38f2b9b6",
   "metadata": {},
   "outputs": [],
   "source": [
    "df.loc[df['u_d']>=2.1,'u_d']=2.1\n",
    "df.loc[df['u_d']<=-2.6,'u_d']=-2.6"
   ]
  },
  {
   "cell_type": "code",
   "execution_count": null,
   "id": "9ae8da50",
   "metadata": {},
   "outputs": [],
   "source": [
    "sns.boxplot(df['u_d'])\n",
    "plt.show()"
   ]
  },
  {
   "cell_type": "code",
   "execution_count": null,
   "id": "d968375f",
   "metadata": {},
   "outputs": [],
   "source": [
    "#no outliers\n",
    "df.boxplot(figsize=(12,6))\n",
    "plt.show()"
   ]
  },
  {
   "cell_type": "code",
   "execution_count": null,
   "id": "2d705388",
   "metadata": {},
   "outputs": [],
   "source": [
    "plt.figure(figsize=(16,16))\n",
    "df.hist()\n",
    "plt.show()"
   ]
  },
  {
   "cell_type": "code",
   "execution_count": null,
   "id": "fa8dc0e5",
   "metadata": {},
   "outputs": [],
   "source": [
    "#plotting_the_distance_plot\n",
    "plt.figure(figsize=(16,12))\n",
    "for i in range (len(df.columns)):\n",
    "    plt.subplot(3,4, i+1)\n",
    "    sns.distplot(df[df.columns[i]])\n",
    "plt.show()"
   ]
  },
  {
   "cell_type": "code",
   "execution_count": null,
   "id": "88983947",
   "metadata": {},
   "outputs": [],
   "source": [
    "#pairplot\n",
    "sns.pairplot(df.sample(100))\n",
    "plt.show()"
   ]
  },
  {
   "cell_type": "code",
   "execution_count": null,
   "id": "fad8620e",
   "metadata": {},
   "outputs": [],
   "source": [
    "#heatmap\n",
    "plt.figure(figsize=(16,16))\n",
    "sns.heatmap(data=corr_matrix , annot = True , vmin = 0)\n",
    "plt.show()"
   ]
  },
  {
   "cell_type": "code",
   "execution_count": null,
   "id": "104f2892",
   "metadata": {},
   "outputs": [],
   "source": [
    "#normalization_of_the_data\n",
    "from numpy import set_printoptions\n",
    "from sklearn.preprocessing import MinMaxScaler"
   ]
  },
  {
   "cell_type": "code",
   "execution_count": null,
   "id": "0c9c68cc",
   "metadata": {},
   "outputs": [],
   "source": [
    "df.values"
   ]
  },
  {
   "cell_type": "code",
   "execution_count": null,
   "id": "8c6070ee",
   "metadata": {},
   "outputs": [],
   "source": [
    "array = df.values\n",
    "\n",
    "scaler = MinMaxScaler(feature_range=(0,1))\n",
    "rescaledX = scaler.fit_transform(array[:,0:5])\n",
    "\n",
    "#transformed data\n",
    "set_printoptions(precision=2)\n",
    "print(rescaledX[0:5,:])"
   ]
  },
  {
   "cell_type": "code",
   "execution_count": null,
   "id": "b1df12e3",
   "metadata": {},
   "outputs": [],
   "source": [
    "#creating_the_report\n",
    "import pandas_profiling as pp\n",
    "import sweetviz as sv\n",
    "\n",
    "EDA_report= pp.ProfileReport(df)\n",
    "EDA_report.to_file(output_file='report.html')"
   ]
  },
  {
   "cell_type": "code",
   "execution_count": null,
   "id": "9fb2eb27",
   "metadata": {},
   "outputs": [],
   "source": [
    "sweet_report = sv.analyze(df)\n",
    "sweet_report.show_html('report.html')"
   ]
  },
  {
   "cell_type": "markdown",
   "id": "a9bb472b",
   "metadata": {},
   "source": [
    "# MODEL BUILDING:"
   ]
  },
  {
   "cell_type": "code",
   "execution_count": null,
   "id": "73232cda",
   "metadata": {},
   "outputs": [],
   "source": [
    "from sklearn import linear_model, metrics\n",
    "from sklearn.linear_model import LinearRegression"
   ]
  },
  {
   "cell_type": "code",
   "execution_count": null,
   "id": "e68fc5d9",
   "metadata": {},
   "outputs": [],
   "source": [
    "from sklearn.model_selection import train_test_split"
   ]
  },
  {
   "cell_type": "code",
   "execution_count": null,
   "id": "c0e9f675",
   "metadata": {},
   "outputs": [],
   "source": [
    "X = df.drop(['motor_speed'], axis=1)\n",
    "y = df['motor_speed']"
   ]
  },
  {
   "cell_type": "code",
   "execution_count": null,
   "id": "e9b0e4bd",
   "metadata": {},
   "outputs": [],
   "source": [
    "X.head()"
   ]
  },
  {
   "cell_type": "code",
   "execution_count": null,
   "id": "ac43e06f",
   "metadata": {},
   "outputs": [],
   "source": [
    "y.head()"
   ]
  },
  {
   "cell_type": "code",
   "execution_count": null,
   "id": "d026580a",
   "metadata": {},
   "outputs": [],
   "source": [
    "# Splitting the data into train and test\n",
    "X_train, X_test, y_train, y_test = train_test_split(X, y, train_size=0.8, test_size=0.2, random_state=100)"
   ]
  },
  {
   "cell_type": "code",
   "execution_count": null,
   "id": "4d83aab0",
   "metadata": {},
   "outputs": [],
   "source": [
    "from sklearn.preprocessing import StandardScaler"
   ]
  },
  {
   "cell_type": "code",
   "execution_count": null,
   "id": "2b15f892",
   "metadata": {},
   "outputs": [],
   "source": [
    "#by_using_the_standard_scaler mean=0 and Sd=1\n",
    "scaler = StandardScaler()\n",
    "\n",
    "X_train=scaler.fit_transform(X_train)\n",
    "X_test=scaler.transform(X_test)"
   ]
  },
  {
   "cell_type": "markdown",
   "id": "f1a0dd78",
   "metadata": {},
   "source": [
    "# LINEAR REGERSSION"
   ]
  },
  {
   "cell_type": "code",
   "execution_count": null,
   "id": "193fbda7",
   "metadata": {},
   "outputs": [],
   "source": [
    "from sklearn.feature_selection import RFE\n",
    "from sklearn.linear_model import LinearRegression\n",
    "import statsmodels.api as sm"
   ]
  },
  {
   "cell_type": "code",
   "execution_count": null,
   "id": "54a937ae",
   "metadata": {},
   "outputs": [],
   "source": [
    "#Initializing_the_LINEAR_REGRESSION\n",
    "lm = LinearRegression()\n",
    "lm.fit(X_train, y_train)"
   ]
  },
  {
   "cell_type": "code",
   "execution_count": null,
   "id": "2dad08bf",
   "metadata": {},
   "outputs": [],
   "source": [
    "#after building the model lets print the intercept and slope \n",
    "print(lm.intercept_)\n",
    "\n",
    "\n",
    "print(lm.coef_)"
   ]
  },
  {
   "cell_type": "code",
   "execution_count": null,
   "id": "2df3affc",
   "metadata": {},
   "outputs": [],
   "source": [
    "#Storing_the_predicted_output_in_independent_variable\n",
    "y_pred_lr = lm.predict(X_test)"
   ]
  },
  {
   "cell_type": "code",
   "execution_count": null,
   "id": "df5ea35f",
   "metadata": {},
   "outputs": [],
   "source": [
    "#print futher metric which will evaluate the model scores\n",
    "results = pd.DataFrame(columns = ['Model','Train Accuracy','Test Accuracy' ,'R2', 'explained_variance', 'mean squared error',  'root mean squared error', 'mean absolute error'])"
   ]
  },
  {
   "cell_type": "code",
   "execution_count": null,
   "id": "8784c5d6",
   "metadata": {},
   "outputs": [],
   "source": [
    "from sklearn.metrics import r2_score, explained_variance_score, mean_squared_error, mean_absolute_error "
   ]
  },
  {
   "cell_type": "code",
   "execution_count": null,
   "id": "93b967c6",
   "metadata": {},
   "outputs": [],
   "source": [
    "y_pred = y_pred_lr "
   ]
  },
  {
   "cell_type": "code",
   "execution_count": null,
   "id": "910b5293",
   "metadata": {},
   "outputs": [],
   "source": [
    "#printing_the_scores\n",
    "temp = pd.DataFrame(columns = ['Model','Train Accuracy','Test Accuracy', 'R2', 'explained_variance', 'mean squared error',  'root mean squared error', 'mean absolute error'])\n",
    "Train_Accuracy_lm=(lm.score(X_train,y_train))*100\n",
    "Test_Accuracy_lm=(lm.score(X_test,y_test))*100\n",
    "r2_lm = r2_score(y_test, y_pred)*100\n",
    "ev_lm = explained_variance_score(y_test, y_pred)\n",
    "mse_lm = mean_squared_error(y_test, y_pred)\n",
    "rmse_lm = mean_squared_error(y_test, y_pred, squared = False)\n",
    "mae_lm = mean_absolute_error(y_test, y_pred)\n"
   ]
  },
  {
   "cell_type": "code",
   "execution_count": null,
   "id": "2b497d61",
   "metadata": {},
   "outputs": [],
   "source": [
    "temp = {'Model': \"Linear Regression\",'Train Accuracy':Train_Accuracy_lm,'Test Accuracy':Test_Accuracy_lm ,'R2': r2_lm, 'explained_variance': ev_lm, 'mean squared error': mse_lm, \n",
    "                    'root mean squared error': rmse_lm, 'mean absolute error': mae_lm}"
   ]
  },
  {
   "cell_type": "code",
   "execution_count": null,
   "id": "c0c78b57",
   "metadata": {},
   "outputs": [],
   "source": [
    "#storing_the_scores_in_results\n",
    "results = results.append(temp, ignore_index=True)\n",
    "results\n"
   ]
  },
  {
   "cell_type": "markdown",
   "id": "8f2ce76b",
   "metadata": {},
   "source": [
    "# LASSO & RIDGE"
   ]
  },
  {
   "cell_type": "code",
   "execution_count": null,
   "id": "6458b517",
   "metadata": {},
   "outputs": [],
   "source": [
    "from sklearn.linear_model import Lasso\n",
    "from sklearn.linear_model import Ridge\n",
    "from sklearn.model_selection import GridSearchCV\n",
    "import warnings\n",
    "warnings.filterwarnings(action = 'ignore')"
   ]
  },
  {
   "cell_type": "code",
   "execution_count": null,
   "id": "7b38a36f",
   "metadata": {},
   "outputs": [],
   "source": [
    "params = {'alpha': [0.0001, 0.001, 0.01, 0.05, 0.1, \n",
    " 0.2, 0.3, 0.4, 0.5, 0.6, 0.7, 0.8, 0.9, 1.0, 2.0, 3.0, \n",
    " 4.0, 5.0, 6.0, 7.0, 8.0, 9.0, 10.0, 20, 50, 100, 500, 1000 ]}\n",
    "\n",
    "folds = 4"
   ]
  },
  {
   "cell_type": "code",
   "execution_count": null,
   "id": "8f97d1c3",
   "metadata": {},
   "outputs": [],
   "source": [
    "lasso = Lasso(tol=1e-2)\n",
    "\n",
    "model_cv = GridSearchCV(estimator = lasso, \n",
    "                        param_grid = params, \n",
    "                        scoring= 'r2', \n",
    "                        cv = folds, \n",
    "                        return_train_score=True,\n",
    "                        verbose = 1)            \n",
    "\n",
    "model_cv.fit(X_train, y_train)"
   ]
  },
  {
   "cell_type": "code",
   "execution_count": null,
   "id": "e66a7ac9",
   "metadata": {},
   "outputs": [],
   "source": [
    "model_cv.best_params_"
   ]
  },
  {
   "cell_type": "code",
   "execution_count": null,
   "id": "249ec8a5",
   "metadata": {},
   "outputs": [],
   "source": [
    "las = Lasso(alpha = 0.0001, tol=1e-2 )"
   ]
  },
  {
   "cell_type": "code",
   "execution_count": null,
   "id": "54c1ed57",
   "metadata": {},
   "outputs": [],
   "source": [
    "las.fit(X_train, y_train)"
   ]
  },
  {
   "cell_type": "code",
   "execution_count": null,
   "id": "7f8ebb6b",
   "metadata": {},
   "outputs": [],
   "source": [
    "y_pred = las.predict(X_test)"
   ]
  },
  {
   "cell_type": "code",
   "execution_count": null,
   "id": "af681f69",
   "metadata": {},
   "outputs": [],
   "source": [
    "#printing_the_scores\n",
    "temp = pd.DataFrame(columns = ['Model','Train Accuracy','Test Accuracy', 'R2', 'explained_variance', 'mean squared error',  'root mean squared error', 'mean absolute error'])\n",
    "Train_Accuracy_lasso=(model_cv.score(X_train,y_train))*100\n",
    "Test_Accuracy_lasso=(model_cv.score(X_test,y_test))*100\n",
    "r2_lasso = r2_score(y_test, y_pred)*100\n",
    "ev_lasso = explained_variance_score(y_test, y_pred)\n",
    "mse_lasso = mean_squared_error(y_test, y_pred)\n",
    "rmse_lasso = mean_squared_error(y_test, y_pred, squared = False)\n",
    "mae_lasso = mean_absolute_error(y_test, y_pred)\n"
   ]
  },
  {
   "cell_type": "code",
   "execution_count": null,
   "id": "9c340d43",
   "metadata": {},
   "outputs": [],
   "source": [
    "temp = {'Model': \"Lasso Regression\",'Train Accuracy':Train_Accuracy_lasso,'Test Accuracy':Test_Accuracy_lasso ,'R2': r2_lasso, 'explained_variance': ev_lasso, 'mean squared error': mse_lasso, \n",
    "                    'root mean squared error': rmse_lasso, 'mean absolute error': mae_lasso}"
   ]
  },
  {
   "cell_type": "code",
   "execution_count": null,
   "id": "92af2925",
   "metadata": {},
   "outputs": [],
   "source": [
    "results = results.append(temp, ignore_index=True)\n",
    "results"
   ]
  },
  {
   "cell_type": "code",
   "execution_count": null,
   "id": "260a241d",
   "metadata": {},
   "outputs": [],
   "source": [
    "#By applying lasso accuracy gets minimized by 6%"
   ]
  },
  {
   "cell_type": "code",
   "execution_count": null,
   "id": "ca5c4fee",
   "metadata": {},
   "outputs": [],
   "source": [
    "#by applying ridge\n"
   ]
  },
  {
   "cell_type": "code",
   "execution_count": null,
   "id": "bc59ffd0",
   "metadata": {},
   "outputs": [],
   "source": [
    "# list of alphas to tune\n",
    "params = {'alpha': [0.0001, 0.001, 0.01, 0.05, 0.1, \n",
    " 0.2, 0.3, 0.4, 0.5, 0.6, 0.7, 0.8, 0.9, 1.0, 2.0, 3.0, \n",
    " 4.0, 5.0, 6.0, 7.0, 8.0, 9.0, 10.0, 20, 50, 100, 500, 1000 ]}\n",
    "\n",
    "\n",
    "ridge = Ridge()\n",
    "\n",
    "# cross validation\n",
    "folds = 5\n",
    "model_cv = GridSearchCV(estimator = ridge, \n",
    "                        param_grid = params, \n",
    "                        scoring= 'r2', \n",
    "                        cv = folds, \n",
    "                        return_train_score=True,\n",
    "                        verbose = 1)            \n",
    "model_cv.fit(X_train, y_train)"
   ]
  },
  {
   "cell_type": "code",
   "execution_count": null,
   "id": "073e203e",
   "metadata": {},
   "outputs": [],
   "source": [
    "cv_results = pd.DataFrame(model_cv.cv_results_)\n",
    "cv_results = cv_results[cv_results['param_alpha']<=30]\n",
    "cv_results.head()"
   ]
  },
  {
   "cell_type": "code",
   "execution_count": null,
   "id": "61a42c3b",
   "metadata": {},
   "outputs": [],
   "source": [
    "model_cv.best_params_"
   ]
  },
  {
   "cell_type": "code",
   "execution_count": null,
   "id": "33330787",
   "metadata": {},
   "outputs": [],
   "source": [
    "rid = Ridge(alpha=0.0001)\n",
    "rid.fit(X_train, y_train)"
   ]
  },
  {
   "cell_type": "code",
   "execution_count": null,
   "id": "80b7e746",
   "metadata": {},
   "outputs": [],
   "source": [
    "y_pred = rid.predict(X_test)\n",
    "\n",
    "temp = pd.DataFrame(columns = ['Model','Train Accuracy','Test Accuracy', 'R2', 'explained_variance', 'mean squared error',  'root mean squared error', 'mean absolute error'])\n",
    "Train_Accuracy_ridge=(model_cv.score(X_train,y_train))*100\n",
    "Test_Accuracy_ridge=(model_cv.score(X_test,y_test))*100\n",
    "r2_ridge = r2_score(y_test, y_pred)*100\n",
    "ev_ridge = explained_variance_score(y_test, y_pred)\n",
    "mse_ridge = mean_squared_error(y_test, y_pred)\n",
    "rmse_ridge = mean_squared_error(y_test, y_pred, squared = False)\n",
    "mae_ridge = mean_absolute_error(y_test, y_pred)\n",
    "\n",
    "temp = {'Model': \"Ridge Regression\",'Train Accuracy':Train_Accuracy_ridge,'Test Accuracy':Test_Accuracy_ridge ,'R2': r2_ridge, 'explained_variance': ev_ridge, 'mean squared error': mse_ridge, \n",
    "                    'root mean squared error': rmse_ridge, 'mean absolute error': mae_ridge}\n",
    "\n",
    "\n",
    "\n",
    "results = results.append(temp, ignore_index=True)\n",
    "\n",
    "results"
   ]
  },
  {
   "cell_type": "code",
   "execution_count": null,
   "id": "be455df1",
   "metadata": {},
   "outputs": [],
   "source": [
    "#by observing the results ridge and linear are giving same results "
   ]
  },
  {
   "cell_type": "markdown",
   "id": "7a2e2271",
   "metadata": {},
   "source": [
    "# DECISION TREE REGRESSOR"
   ]
  },
  {
   "cell_type": "code",
   "execution_count": null,
   "id": "aa0f746b",
   "metadata": {},
   "outputs": [],
   "source": [
    "# Fitting Data into the model\n",
    "from sklearn.tree import DecisionTreeRegressor\n",
    "regressor = DecisionTreeRegressor()\n",
    "from sklearn.model_selection import GridSearchCV\n",
    "from sklearn.ensemble import RandomForestRegressor\n",
    "regressor.fit(X_train, y_train)"
   ]
  },
  {
   "cell_type": "code",
   "execution_count": null,
   "id": "3965e810",
   "metadata": {},
   "outputs": [],
   "source": [
    "y_pred = regressor.predict(X_test)"
   ]
  },
  {
   "cell_type": "code",
   "execution_count": null,
   "id": "d1c8d9ac",
   "metadata": {},
   "outputs": [],
   "source": [
    "\n",
    "temp = pd.DataFrame(columns = ['Model','Train Accuracy','Test Accuracy', 'R2', 'explained_variance', 'mean squared error',  'root mean squared error', 'mean absolute error'])\n",
    "Train_Accuracy_dt=(regressor.score(X_train,y_train))*100\n",
    "Test_Accuracy_dt=(regressor.score(X_test,y_test))*100\n",
    "r2_dt = r2_score(y_test, y_pred)*100\n",
    "ev_dt = explained_variance_score(y_test, y_pred)\n",
    "mse_dt = mean_squared_error(y_test, y_pred)\n",
    "rmse_dt = mean_squared_error(y_test, y_pred, squared = False)\n",
    "mae_dt = mean_absolute_error(y_test, y_pred)\n",
    "\n",
    "temp = {'Model': \"DT_Without_Hyperparamaeter_Tuning\",'Train Accuracy':Train_Accuracy_dt,'Test Accuracy':Test_Accuracy_dt ,'R2': r2_dt, 'explained_variance': ev_dt, 'mean squared error': mse_dt, \n",
    "                    'root mean squared error': rmse_dt, 'mean absolute error': mae_dt}\n",
    "\n",
    "\n",
    "\n",
    "results = results.append(temp, ignore_index=True)\n",
    "\n",
    "results"
   ]
  },
  {
   "cell_type": "code",
   "execution_count": null,
   "id": "b6a17523",
   "metadata": {},
   "outputs": [],
   "source": [
    "#by applying decsion tree regressor the model accuracy reaches to 99%\n"
   ]
  },
  {
   "cell_type": "code",
   "execution_count": null,
   "id": "4e0af884",
   "metadata": {},
   "outputs": [],
   "source": [
    "#after_hyperparameter_tunning\n",
    "parameters={\"max_depth\" : [1,3,5,],\n",
    "           \"min_samples_leaf\":[1,2,3]\n",
    "          \n",
    "           \n",
    "           }"
   ]
  },
  {
   "cell_type": "code",
   "execution_count": null,
   "id": "ca2572b9",
   "metadata": {},
   "outputs": [],
   "source": [
    "tuning_model=GridSearchCV(regressor,param_grid=parameters,cv=3,verbose=1)"
   ]
  },
  {
   "cell_type": "code",
   "execution_count": null,
   "id": "ea92e3d2",
   "metadata": {},
   "outputs": [],
   "source": [
    "tuning_model.fit(X_train,y_train)"
   ]
  },
  {
   "cell_type": "code",
   "execution_count": null,
   "id": "3a232315",
   "metadata": {},
   "outputs": [],
   "source": [
    "# best hyperparameters \n",
    "tuning_model.best_params_"
   ]
  },
  {
   "cell_type": "code",
   "execution_count": null,
   "id": "fd5d15bb",
   "metadata": {},
   "outputs": [],
   "source": [
    "tuned_hyper_model= DecisionTreeRegressor(**tuning_model.best_params_)"
   ]
  },
  {
   "cell_type": "code",
   "execution_count": null,
   "id": "ae7caa70",
   "metadata": {},
   "outputs": [],
   "source": [
    "tuned_hyper_model.fit(X_train,y_train)"
   ]
  },
  {
   "cell_type": "code",
   "execution_count": null,
   "id": "e09b3605",
   "metadata": {},
   "outputs": [],
   "source": [
    "y_pred = tuned_hyper_model.predict(X_test)"
   ]
  },
  {
   "cell_type": "code",
   "execution_count": null,
   "id": "aeb82008",
   "metadata": {},
   "outputs": [],
   "source": [
    "temp = pd.DataFrame(columns = ['Model','Train Accuracy','Test Accuracy', 'R2', 'explained_variance', 'mean squared error',  'root mean squared error', 'mean absolute error'])\n",
    "Train_Accuracy_hp=(tuning_model.score(X_train,y_train))*100\n",
    "Test_Accuracy_hp=(tuning_model.score(X_test,y_test))*100\n",
    "r2_hp = r2_score(y_test, y_pred)*100\n",
    "ev_hp = explained_variance_score(y_test, y_pred)\n",
    "mse_hp = mean_squared_error(y_test, y_pred)\n",
    "rmse_hp = mean_squared_error(y_test, y_pred, squared = False)\n",
    "mae_hp = mean_absolute_error(y_test, y_pred)\n",
    "\n",
    "temp = {'Model': \"DT_Hyperparamaeter_Tuning\",'Train Accuracy':Train_Accuracy_hp,'Test Accuracy':Test_Accuracy_hp ,'R2': r2_hp, 'explained_variance': ev_hp, 'mean squared error': mse_hp, \n",
    "                    'root mean squared error': rmse_hp, 'mean absolute error': mae_hp}\n",
    "\n",
    "\n",
    "\n",
    "results = results.append(temp, ignore_index=True)\n",
    "\n",
    "results"
   ]
  },
  {
   "cell_type": "code",
   "execution_count": null,
   "id": "82dd0950",
   "metadata": {},
   "outputs": [],
   "source": [
    "#by hyper_parameter_tunning seeing results we can see that accuracy is reduced to 4%"
   ]
  },
  {
   "cell_type": "markdown",
   "id": "c105da0d",
   "metadata": {},
   "source": [
    "# RANDOM FOREST REGRESSOR\n"
   ]
  },
  {
   "cell_type": "code",
   "execution_count": null,
   "id": "f68ba76f",
   "metadata": {},
   "outputs": [],
   "source": [
    "#as we observed in dt after hyperparameter tuning accuracy gets reduced so we dont apply here"
   ]
  },
  {
   "cell_type": "code",
   "execution_count": null,
   "id": "65ef1037",
   "metadata": {},
   "outputs": [],
   "source": [
    "from sklearn.ensemble import RandomForestRegressor"
   ]
  },
  {
   "cell_type": "code",
   "execution_count": null,
   "id": "7a955973",
   "metadata": {},
   "outputs": [],
   "source": [
    "X = df.drop(['motor_speed','torque','stator_tooth','stator_yoke'], axis=1)\n",
    "y = df['motor_speed']"
   ]
  },
  {
   "cell_type": "code",
   "execution_count": null,
   "id": "d70b16f5",
   "metadata": {},
   "outputs": [],
   "source": [
    "len(X)"
   ]
  },
  {
   "cell_type": "code",
   "execution_count": null,
   "id": "2b41fe9a",
   "metadata": {},
   "outputs": [],
   "source": [
    "X.columns"
   ]
  },
  {
   "cell_type": "code",
   "execution_count": null,
   "id": "17737f20",
   "metadata": {},
   "outputs": [],
   "source": [
    "len(y)"
   ]
  },
  {
   "cell_type": "code",
   "execution_count": null,
   "id": "db4536e5",
   "metadata": {},
   "outputs": [],
   "source": [
    "# Splitting the data into train and test\n",
    "from sklearn.model_selection import train_test_split\n",
    "X_train, X_test, y_train, y_test = train_test_split(X, y, test_size=0.3, random_state=2)"
   ]
  },
  {
   "cell_type": "code",
   "execution_count": null,
   "id": "163da940",
   "metadata": {},
   "outputs": [],
   "source": [
    "X_validation, X_holdout_test, y_validation, y_holdout_test = train_test_split(X_test, y_test, test_size=0.3, random_state=2)"
   ]
  },
  {
   "cell_type": "code",
   "execution_count": null,
   "id": "89ce1aa1",
   "metadata": {},
   "outputs": [],
   "source": [
    "model = RandomForestRegressor(max_depth=20,max_features='sqrt',min_samples_leaf=3,min_samples_split=3,n_estimators=75,random_state=0)\n",
    "model.fit(X_train,y_train)"
   ]
  },
  {
   "cell_type": "code",
   "execution_count": null,
   "id": "d20fb87f",
   "metadata": {},
   "outputs": [],
   "source": [
    "y_pred = model.predict(X_test)"
   ]
  },
  {
   "cell_type": "code",
   "execution_count": null,
   "id": "8e005e4b",
   "metadata": {},
   "outputs": [],
   "source": [
    "\n",
    "temp = pd.DataFrame(columns = ['Model','Train Accuracy','Test Accuracy', 'R2', 'explained_variance', 'mean squared error',  'root mean squared error', 'mean absolute error'])\n",
    "Train_Accuracy_rf=(model.score(X_train,y_train))*100\n",
    "Test_Accuracy_rf=(model.score(X_test,y_test))*100\n",
    "r2_rf = r2_score(y_test, y_pred)*100\n",
    "ev_rf = explained_variance_score(y_test, y_pred)\n",
    "mse_rf = mean_squared_error(y_test, y_pred)\n",
    "rmse_rf = mean_squared_error(y_test, y_pred, squared = False)\n",
    "mae_rf = mean_absolute_error(y_test, y_pred)\n",
    "\n",
    "temp = {'Model': \"Random_Forest\",'Train Accuracy':Train_Accuracy_rf,'Test Accuracy':Test_Accuracy_rf,'R2': r2_rf, 'explained_variance': ev_rf, 'mean squared error': mse_rf, \n",
    "                    'root mean squared error': rmse_rf, 'mean absolute error': mae_rf}\n",
    "\n",
    "\n",
    "\n",
    "results = results.append(temp, ignore_index=True)\n",
    "\n",
    "results"
   ]
  },
  {
   "cell_type": "code",
   "execution_count": null,
   "id": "51d18932",
   "metadata": {},
   "outputs": [],
   "source": [
    "final_model = RandomForestRegressor(max_depth=20,max_features='sqrt',min_samples_leaf=3,min_samples_split=3,n_estimators=75,random_state=0)\n",
    "final_model.fit(X,y)"
   ]
  },
  {
   "cell_type": "code",
   "execution_count": null,
   "id": "b89ec9df",
   "metadata": {},
   "outputs": [],
   "source": [
    "#checking_the_algorithms_scores_w.r.t_thir metrics_for_deployment\n",
    "models = pd.DataFrame({\n",
    "    'Algorithms'                :['Linear','Lasso','Ridge','Decision_Tree',\n",
    "                                'Decision_hyperparamter','Random_Forest'],\n",
    "    'Train_Accuracy'            :[Train_Accuracy_lm , Train_Accuracy_lasso , Train_Accuracy_ridge , Train_Accuracy_dt\n",
    "                                , Train_Accuracy_hp , Train_Accuracy_rf],\n",
    "    'Test_Accuracy'             :[Test_Accuracy_lm, Test_Accuracy_lasso, Test_Accuracy_ridge, Test_Accuracy_dt,\n",
    "                                Test_Accuracy_hp, Test_Accuracy_rf],\n",
    "    'R2'                        :[r2_lm , r2_lasso , r2_ridge , r2_dt , r2_hp , r2_rf ],\n",
    "    'mean squared error'        :[mse_lm , mse_lasso , mse_ridge ,mse_dt ,mse_hp , mse_rf],\n",
    "    'root mean squared error'   :[rmse_lm , rmse_lasso ,rmse_ridge, rmse_dt , rmse_hp , rmse_rf],\n",
    "    'mean absolute error'       :[mae_lm , mae_lasso , mae_ridge , mae_dt , mae_hp , mae_rf]\n",
    "    \n",
    "})\n",
    "\n",
    "models.sort_values(by = [ 'Train_Accuracy','Test_Accuracy' ,'mean squared error' ,'root mean squared error' ,'mean absolute error'],\n",
    "                         ascending = True)"
   ]
  },
  {
   "cell_type": "markdown",
   "id": "cf5c3d0b",
   "metadata": {},
   "source": [
    "# Algorithm vs R2_Score"
   ]
  },
  {
   "cell_type": "code",
   "execution_count": null,
   "id": "45002923",
   "metadata": {},
   "outputs": [],
   "source": [
    "plt.style.use('ggplot') \n",
    "plt.figure(figsize=(10,6))\n",
    "sns.barplot(x='Algorithms',y='R2',data=models)\n",
    "plt.title(\"Best Model Prediction w.r.t. R2_Score\") \n",
    "plt.show()"
   ]
  },
  {
   "cell_type": "markdown",
   "id": "3f4b085f",
   "metadata": {},
   "source": [
    "# Algorithm vs Training Accuracy"
   ]
  },
  {
   "cell_type": "code",
   "execution_count": null,
   "id": "eaa33045",
   "metadata": {},
   "outputs": [],
   "source": [
    "plt.style.use('ggplot') \n",
    "plt.figure(figsize=(10,6))\n",
    "sns.barplot(x='Algorithms',y='Train_Accuracy',data=models)\n",
    "plt.title(\"Best Model Prediction w.r.t. Training Accuracy\")\n",
    "plt.show()"
   ]
  },
  {
   "cell_type": "markdown",
   "id": "711513d3",
   "metadata": {},
   "source": [
    "# Algorithm vs Test Accuracy"
   ]
  },
  {
   "cell_type": "code",
   "execution_count": null,
   "id": "948f2869",
   "metadata": {},
   "outputs": [],
   "source": [
    "plt.style.use('ggplot') \n",
    "plt.figure(figsize=(10,6))\n",
    "sns.barplot(x='Algorithms',y='Test_Accuracy',data=models)\n",
    "plt.title(\"Model Prediction w.r.t. Testing accuracy\")\n",
    "plt.show()\n"
   ]
  },
  {
   "cell_type": "markdown",
   "id": "ea498b23",
   "metadata": {},
   "source": [
    "# DEPLOYMENT"
   ]
  },
  {
   "cell_type": "code",
   "execution_count": null,
   "id": "e48cba51",
   "metadata": {},
   "outputs": [],
   "source": [
    "import pickle"
   ]
  },
  {
   "cell_type": "code",
   "execution_count": null,
   "id": "c5c3f911",
   "metadata": {},
   "outputs": [],
   "source": [
    "filename = 'trained_model.sav'\n",
    "pickle.dump(final_model, open(filename, 'wb'))"
   ]
  },
  {
   "cell_type": "code",
   "execution_count": null,
   "id": "0c84fe8a",
   "metadata": {},
   "outputs": [],
   "source": [
    "loaded_model = pickle.load(open( 'trained_model.sav' , 'rb'))"
   ]
  },
  {
   "cell_type": "code",
   "execution_count": null,
   "id": "75ccdcda",
   "metadata": {},
   "outputs": [],
   "source": [
    "input_data = (0.22,0.576,0.567,0.424,0.786,0.872,0.954,0.4856)\n",
    "\n",
    "input_data_asarray = np.asarray(input_data)\n",
    "\n",
    "input_data_reshaped = input_data_asarray.reshape(1,-1)\n"
   ]
  },
  {
   "cell_type": "code",
   "execution_count": null,
   "id": "e3533f16",
   "metadata": {},
   "outputs": [],
   "source": [
    "prediction = loaded_model.predict(input_data_reshaped)\n",
    "print(prediction)"
   ]
  },
  {
   "cell_type": "code",
   "execution_count": null,
   "id": "db6410df",
   "metadata": {},
   "outputs": [],
   "source": []
  }
 ],
 "metadata": {
  "kernelspec": {
   "display_name": "Python 3 (ipykernel)",
   "language": "python",
   "name": "python3"
  },
  "language_info": {
   "codemirror_mode": {
    "name": "ipython",
    "version": 3
   },
   "file_extension": ".py",
   "mimetype": "text/x-python",
   "name": "python",
   "nbconvert_exporter": "python",
   "pygments_lexer": "ipython3",
   "version": "3.9.13"
  }
 },
 "nbformat": 4,
 "nbformat_minor": 5
}
